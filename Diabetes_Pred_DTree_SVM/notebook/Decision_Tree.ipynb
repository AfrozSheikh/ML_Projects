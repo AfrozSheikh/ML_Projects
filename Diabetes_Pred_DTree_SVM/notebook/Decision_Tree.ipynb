{
 "cells": [
  {
   "cell_type": "code",
   "execution_count": null,
   "metadata": {},
   "outputs": [],
   "source": [
    "import pandas as pd \n",
    "import numpy as np\n",
    "from sklearn.preprocessing import StandardScaler\n",
    "from sklearn.model_selection import train_test_split\n",
    "from sklearn.tree import DecisionTreeClassifier\n",
    "from sklearn.svm import SVC\n",
    "from sklearn.naive_bayes import BernoulliNB\n",
    "from sklearn.metrics import accuracy_score, classification_report, confusion_matrix\n",
    "import matplotlib.pyplot as plt\n",
    "import seaborn as sns"
   ]
  },
  {
   "cell_type": "code",
   "execution_count": null,
   "metadata": {},
   "outputs": [],
   "source": [
    "df = pd.read_csv(\"P:\\ML-PROJECT\\Diabetes_Pred_DTree_SVM\\dataset\\diabetes.csv\")"
   ]
  },
  {
   "cell_type": "code",
   "execution_count": null,
   "metadata": {},
   "outputs": [],
   "source": [
    "df.describe()"
   ]
  },
  {
   "cell_type": "code",
   "execution_count": null,
   "metadata": {},
   "outputs": [],
   "source": [
    " # Here, a few misconceptions are there like BMI cannot be zero, BP can't be zero,\n",
    "# glucose, insulin can't be zero. So, let's try to replace zero values with the mean of the column.\n",
    "\n",
    "df['BMI'] = df['BMI'].replace(0, df['BMI'].mean())\n",
    "df['BloodPressure'] = df['BloodPressure'].replace(0, df['BloodPressure'].mean())\n",
    "\n",
    "df['Glucose'] = df['Glucose'].replace(0, df['Glucose'].mean())\n",
    "\n",
    "\n",
    "df['Insulin'] = df['Insulin'].replace(0, df['Insulin'].mean())\n",
    "\n",
    "\n",
    "df['SkinThickness'] = df['SkinThickness'].replace(0, df['SkinThickness'].mean())\n"
   ]
  },
  {
   "cell_type": "code",
   "execution_count": null,
   "metadata": {},
   "outputs": [],
   "source": [
    "fig,ax = plt.subplots(figsize=(15,10))\n",
    "sns.boxplot(data=df , width=0.5 , ax=ax ,fliersize=3)"
   ]
  },
  {
   "cell_type": "code",
   "execution_count": null,
   "metadata": {},
   "outputs": [],
   "source": [
    "\n",
    "y = df.drop(columns=['OutCome'], axis=1)"
   ]
  }
 ],
 "metadata": {
  "kernelspec": {
   "display_name": "Python 3",
   "language": "python",
   "name": "python3"
  },
  "language_info": {
   "codemirror_mode": {
    "name": "ipython",
    "version": 3
   },
   "file_extension": ".py",
   "mimetype": "text/x-python",
   "name": "python",
   "nbconvert_exporter": "python",
   "pygments_lexer": "ipython3",
   "version": "3.12.4"
  }
 },
 "nbformat": 4,
 "nbformat_minor": 2
}
